{
 "cells": [
  {
   "cell_type": "markdown",
   "id": "9b8eeab8-a0c3-40ca-b034-92fb852fae5d",
   "metadata": {},
   "source": [
    "# 1. Importing libraries and data"
   ]
  },
  {
   "cell_type": "markdown",
   "id": "e4c839d9-d56b-4c9b-8ffb-0e26479c50f5",
   "metadata": {},
   "source": [
    "# 2. Data Wrangling"
   ]
  },
  {
   "cell_type": "markdown",
   "id": "dea8f5cc-712e-4eb0-9d6f-7f63426fc7a8",
   "metadata": {},
   "source": [
    "----"
   ]
  },
  {
   "cell_type": "markdown",
   "id": "8efcce58-a2b1-4980-b1a3-92ed0db45f27",
   "metadata": {},
   "source": [
    "# 1. Importing libraries and data"
   ]
  },
  {
   "cell_type": "code",
   "execution_count": 294,
   "id": "1e4057ae-f02c-4855-bad3-e9a5c5c021c4",
   "metadata": {},
   "outputs": [],
   "source": [
    "import pandas as pd\n",
    "import numpy as np\n",
    "import seaborn as sns\n",
    "import matplotlib\n",
    "import matplotlib.pyplot as plt\n",
    "import statsmodels.api as sm \n",
    "import os\n",
    "import warnings \n",
    "warnings.filterwarnings(\"ignore\")\n",
    "\n",
    "plt.style.use('seaborn-v0_8-talk')"
   ]
  },
  {
   "cell_type": "code",
   "execution_count": 295,
   "id": "45e4d119-d0ec-4d70-9d0d-edaa55af5acb",
   "metadata": {},
   "outputs": [],
   "source": [
    "#Creating Pathway for data\n",
    "path =(r'C:\\Users\\colmu\\Desktop\\Documents\\GitHub Documents\\CF_WHR')"
   ]
  },
  {
   "cell_type": "code",
   "execution_count": 296,
   "id": "1b23c0c6-b650-40f6-b63a-86e71b125cda",
   "metadata": {},
   "outputs": [
    {
     "data": {
      "text/html": [
       "<div>\n",
       "<style scoped>\n",
       "    .dataframe tbody tr th:only-of-type {\n",
       "        vertical-align: middle;\n",
       "    }\n",
       "\n",
       "    .dataframe tbody tr th {\n",
       "        vertical-align: top;\n",
       "    }\n",
       "\n",
       "    .dataframe thead th {\n",
       "        text-align: right;\n",
       "    }\n",
       "</style>\n",
       "<table border=\"1\" class=\"dataframe\">\n",
       "  <thead>\n",
       "    <tr style=\"text-align: right;\">\n",
       "      <th></th>\n",
       "      <th>LOCATION</th>\n",
       "      <th>INDICATOR</th>\n",
       "      <th>SUBJECT</th>\n",
       "      <th>MEASURE</th>\n",
       "      <th>FREQUENCY</th>\n",
       "      <th>TIME</th>\n",
       "      <th>Value</th>\n",
       "      <th>Flag Codes</th>\n",
       "    </tr>\n",
       "  </thead>\n",
       "  <tbody>\n",
       "    <tr>\n",
       "      <th>0</th>\n",
       "      <td>KOR</td>\n",
       "      <td>QGDP</td>\n",
       "      <td>TOT</td>\n",
       "      <td>PC_CHGPP</td>\n",
       "      <td>Q</td>\n",
       "      <td>2007-Q3</td>\n",
       "      <td>1.173831</td>\n",
       "      <td>NaN</td>\n",
       "    </tr>\n",
       "    <tr>\n",
       "      <th>1</th>\n",
       "      <td>KOR</td>\n",
       "      <td>QGDP</td>\n",
       "      <td>TOT</td>\n",
       "      <td>PC_CHGPP</td>\n",
       "      <td>Q</td>\n",
       "      <td>2007-Q4</td>\n",
       "      <td>2.156949</td>\n",
       "      <td>NaN</td>\n",
       "    </tr>\n",
       "    <tr>\n",
       "      <th>2</th>\n",
       "      <td>KOR</td>\n",
       "      <td>QGDP</td>\n",
       "      <td>TOT</td>\n",
       "      <td>PC_CHGPP</td>\n",
       "      <td>Q</td>\n",
       "      <td>2008-Q1</td>\n",
       "      <td>0.402395</td>\n",
       "      <td>NaN</td>\n",
       "    </tr>\n",
       "    <tr>\n",
       "      <th>3</th>\n",
       "      <td>KOR</td>\n",
       "      <td>QGDP</td>\n",
       "      <td>TOT</td>\n",
       "      <td>PC_CHGPP</td>\n",
       "      <td>Q</td>\n",
       "      <td>2008-Q2</td>\n",
       "      <td>0.523473</td>\n",
       "      <td>NaN</td>\n",
       "    </tr>\n",
       "    <tr>\n",
       "      <th>4</th>\n",
       "      <td>KOR</td>\n",
       "      <td>QGDP</td>\n",
       "      <td>TOT</td>\n",
       "      <td>PC_CHGPP</td>\n",
       "      <td>Q</td>\n",
       "      <td>2008-Q3</td>\n",
       "      <td>0.815881</td>\n",
       "      <td>NaN</td>\n",
       "    </tr>\n",
       "    <tr>\n",
       "      <th>...</th>\n",
       "      <td>...</td>\n",
       "      <td>...</td>\n",
       "      <td>...</td>\n",
       "      <td>...</td>\n",
       "      <td>...</td>\n",
       "      <td>...</td>\n",
       "      <td>...</td>\n",
       "      <td>...</td>\n",
       "    </tr>\n",
       "    <tr>\n",
       "      <th>2886</th>\n",
       "      <td>HRV</td>\n",
       "      <td>QGDP</td>\n",
       "      <td>TOT</td>\n",
       "      <td>PC_CHGPP</td>\n",
       "      <td>Q</td>\n",
       "      <td>2019-Q4</td>\n",
       "      <td>-0.564373</td>\n",
       "      <td>NaN</td>\n",
       "    </tr>\n",
       "    <tr>\n",
       "      <th>2887</th>\n",
       "      <td>HRV</td>\n",
       "      <td>QGDP</td>\n",
       "      <td>TOT</td>\n",
       "      <td>PC_CHGPP</td>\n",
       "      <td>Q</td>\n",
       "      <td>2020-Q1</td>\n",
       "      <td>-1.344949</td>\n",
       "      <td>NaN</td>\n",
       "    </tr>\n",
       "    <tr>\n",
       "      <th>2888</th>\n",
       "      <td>HRV</td>\n",
       "      <td>QGDP</td>\n",
       "      <td>TOT</td>\n",
       "      <td>PC_CHGPP</td>\n",
       "      <td>Q</td>\n",
       "      <td>2020-Q2</td>\n",
       "      <td>-14.491617</td>\n",
       "      <td>NaN</td>\n",
       "    </tr>\n",
       "    <tr>\n",
       "      <th>2889</th>\n",
       "      <td>HRV</td>\n",
       "      <td>QGDP</td>\n",
       "      <td>TOT</td>\n",
       "      <td>PC_CHGPP</td>\n",
       "      <td>Q</td>\n",
       "      <td>2020-Q3</td>\n",
       "      <td>5.488159</td>\n",
       "      <td>NaN</td>\n",
       "    </tr>\n",
       "    <tr>\n",
       "      <th>2890</th>\n",
       "      <td>HRV</td>\n",
       "      <td>QGDP</td>\n",
       "      <td>TOT</td>\n",
       "      <td>PC_CHGPP</td>\n",
       "      <td>Q</td>\n",
       "      <td>2020-Q4</td>\n",
       "      <td>8.207861</td>\n",
       "      <td>NaN</td>\n",
       "    </tr>\n",
       "  </tbody>\n",
       "</table>\n",
       "<p>2891 rows × 8 columns</p>\n",
       "</div>"
      ],
      "text/plain": [
       "     LOCATION INDICATOR SUBJECT   MEASURE FREQUENCY     TIME      Value  \\\n",
       "0         KOR      QGDP     TOT  PC_CHGPP         Q  2007-Q3   1.173831   \n",
       "1         KOR      QGDP     TOT  PC_CHGPP         Q  2007-Q4   2.156949   \n",
       "2         KOR      QGDP     TOT  PC_CHGPP         Q  2008-Q1   0.402395   \n",
       "3         KOR      QGDP     TOT  PC_CHGPP         Q  2008-Q2   0.523473   \n",
       "4         KOR      QGDP     TOT  PC_CHGPP         Q  2008-Q3   0.815881   \n",
       "...       ...       ...     ...       ...       ...      ...        ...   \n",
       "2886      HRV      QGDP     TOT  PC_CHGPP         Q  2019-Q4  -0.564373   \n",
       "2887      HRV      QGDP     TOT  PC_CHGPP         Q  2020-Q1  -1.344949   \n",
       "2888      HRV      QGDP     TOT  PC_CHGPP         Q  2020-Q2 -14.491617   \n",
       "2889      HRV      QGDP     TOT  PC_CHGPP         Q  2020-Q3   5.488159   \n",
       "2890      HRV      QGDP     TOT  PC_CHGPP         Q  2020-Q4   8.207861   \n",
       "\n",
       "     Flag Codes  \n",
       "0           NaN  \n",
       "1           NaN  \n",
       "2           NaN  \n",
       "3           NaN  \n",
       "4           NaN  \n",
       "...         ...  \n",
       "2886        NaN  \n",
       "2887        NaN  \n",
       "2888        NaN  \n",
       "2889        NaN  \n",
       "2890        NaN  \n",
       "\n",
       "[2891 rows x 8 columns]"
      ]
     },
     "execution_count": 296,
     "metadata": {},
     "output_type": "execute_result"
    }
   ],
   "source": [
    "#Importing dataset OECD Gross domestic product (GDP)\n",
    "df_OECD =pd.read_csv(os.path.join(path,'data','original Data','GDP by Country',\"OECD GDP quartertly 2007 to 2020.csv\"))\n",
    "df_OECD"
   ]
  },
  {
   "cell_type": "markdown",
   "id": "ef71ac3a-4747-40ba-adb9-b38cca886518",
   "metadata": {},
   "source": [
    "# 2. Data Wrangling"
   ]
  },
  {
   "cell_type": "code",
   "execution_count": 297,
   "id": "136bde52-9e53-4c10-aa81-8e5f35fdc4ac",
   "metadata": {
    "scrolled": true
   },
   "outputs": [
    {
     "name": "stdout",
     "output_type": "stream",
     "text": [
      "<class 'pandas.core.frame.DataFrame'>\n",
      "RangeIndex: 2891 entries, 0 to 2890\n",
      "Data columns (total 8 columns):\n",
      " #   Column      Non-Null Count  Dtype  \n",
      "---  ------      --------------  -----  \n",
      " 0   LOCATION    2891 non-null   object \n",
      " 1   INDICATOR   2891 non-null   object \n",
      " 2   SUBJECT     2891 non-null   object \n",
      " 3   MEASURE     2891 non-null   object \n",
      " 4   FREQUENCY   2891 non-null   object \n",
      " 5   TIME        2891 non-null   object \n",
      " 6   Value       2891 non-null   float64\n",
      " 7   Flag Codes  44 non-null     object \n",
      "dtypes: float64(1), object(7)\n",
      "memory usage: 180.8+ KB\n"
     ]
    }
   ],
   "source": [
    "df_OECD.info()"
   ]
  },
  {
   "cell_type": "code",
   "execution_count": 298,
   "id": "995b9768-4670-4c68-8178-77ffe3283027",
   "metadata": {},
   "outputs": [
    {
     "data": {
      "text/plain": [
       "LOCATION         0\n",
       "INDICATOR        0\n",
       "SUBJECT          0\n",
       "MEASURE          0\n",
       "FREQUENCY        0\n",
       "TIME             0\n",
       "Value            0\n",
       "Flag Codes    2847\n",
       "dtype: int64"
      ]
     },
     "execution_count": 298,
     "metadata": {},
     "output_type": "execute_result"
    }
   ],
   "source": [
    "# Checking for missing values \n",
    "\n",
    "df_OECD.isnull().sum() "
   ]
  },
  {
   "cell_type": "code",
   "execution_count": 299,
   "id": "8553998c-55d2-43ee-ab81-b6efc79fd149",
   "metadata": {},
   "outputs": [
    {
     "data": {
      "text/plain": [
       "0"
      ]
     },
     "execution_count": 299,
     "metadata": {},
     "output_type": "execute_result"
    }
   ],
   "source": [
    "# Check for duplicates\n",
    "\n",
    "dups = df_OECD.duplicated()\n",
    "dups.sum()\n",
    "\n",
    "# No dups!"
   ]
  },
  {
   "cell_type": "code",
   "execution_count": 300,
   "id": "54ae785b-c35d-4d9b-9a0a-d40c19d7cf3c",
   "metadata": {},
   "outputs": [
    {
     "data": {
      "text/plain": [
       "Index(['LOCATION', 'INDICATOR', 'SUBJECT', 'MEASURE', 'FREQUENCY', 'TIME',\n",
       "       'Value', 'Flag Codes'],\n",
       "      dtype='object')"
      ]
     },
     "execution_count": 300,
     "metadata": {},
     "output_type": "execute_result"
    }
   ],
   "source": [
    "df_OECD.columns"
   ]
  },
  {
   "cell_type": "code",
   "execution_count": 301,
   "id": "a46505ba-6a0d-47c4-bc9b-45d7d8c8134c",
   "metadata": {},
   "outputs": [
    {
     "data": {
      "text/html": [
       "<div>\n",
       "<style scoped>\n",
       "    .dataframe tbody tr th:only-of-type {\n",
       "        vertical-align: middle;\n",
       "    }\n",
       "\n",
       "    .dataframe tbody tr th {\n",
       "        vertical-align: top;\n",
       "    }\n",
       "\n",
       "    .dataframe thead th {\n",
       "        text-align: right;\n",
       "    }\n",
       "</style>\n",
       "<table border=\"1\" class=\"dataframe\">\n",
       "  <thead>\n",
       "    <tr style=\"text-align: right;\">\n",
       "      <th></th>\n",
       "      <th>LOCATION</th>\n",
       "      <th>TIME</th>\n",
       "      <th>Value</th>\n",
       "    </tr>\n",
       "  </thead>\n",
       "  <tbody>\n",
       "    <tr>\n",
       "      <th>0</th>\n",
       "      <td>KOR</td>\n",
       "      <td>2007-Q3</td>\n",
       "      <td>1.173831</td>\n",
       "    </tr>\n",
       "    <tr>\n",
       "      <th>1</th>\n",
       "      <td>KOR</td>\n",
       "      <td>2007-Q4</td>\n",
       "      <td>2.156949</td>\n",
       "    </tr>\n",
       "    <tr>\n",
       "      <th>2</th>\n",
       "      <td>KOR</td>\n",
       "      <td>2008-Q1</td>\n",
       "      <td>0.402395</td>\n",
       "    </tr>\n",
       "    <tr>\n",
       "      <th>3</th>\n",
       "      <td>KOR</td>\n",
       "      <td>2008-Q2</td>\n",
       "      <td>0.523473</td>\n",
       "    </tr>\n",
       "    <tr>\n",
       "      <th>4</th>\n",
       "      <td>KOR</td>\n",
       "      <td>2008-Q3</td>\n",
       "      <td>0.815881</td>\n",
       "    </tr>\n",
       "    <tr>\n",
       "      <th>...</th>\n",
       "      <td>...</td>\n",
       "      <td>...</td>\n",
       "      <td>...</td>\n",
       "    </tr>\n",
       "    <tr>\n",
       "      <th>2886</th>\n",
       "      <td>HRV</td>\n",
       "      <td>2019-Q4</td>\n",
       "      <td>-0.564373</td>\n",
       "    </tr>\n",
       "    <tr>\n",
       "      <th>2887</th>\n",
       "      <td>HRV</td>\n",
       "      <td>2020-Q1</td>\n",
       "      <td>-1.344949</td>\n",
       "    </tr>\n",
       "    <tr>\n",
       "      <th>2888</th>\n",
       "      <td>HRV</td>\n",
       "      <td>2020-Q2</td>\n",
       "      <td>-14.491617</td>\n",
       "    </tr>\n",
       "    <tr>\n",
       "      <th>2889</th>\n",
       "      <td>HRV</td>\n",
       "      <td>2020-Q3</td>\n",
       "      <td>5.488159</td>\n",
       "    </tr>\n",
       "    <tr>\n",
       "      <th>2890</th>\n",
       "      <td>HRV</td>\n",
       "      <td>2020-Q4</td>\n",
       "      <td>8.207861</td>\n",
       "    </tr>\n",
       "  </tbody>\n",
       "</table>\n",
       "<p>2891 rows × 3 columns</p>\n",
       "</div>"
      ],
      "text/plain": [
       "     LOCATION     TIME      Value\n",
       "0         KOR  2007-Q3   1.173831\n",
       "1         KOR  2007-Q4   2.156949\n",
       "2         KOR  2008-Q1   0.402395\n",
       "3         KOR  2008-Q2   0.523473\n",
       "4         KOR  2008-Q3   0.815881\n",
       "...       ...      ...        ...\n",
       "2886      HRV  2019-Q4  -0.564373\n",
       "2887      HRV  2020-Q1  -1.344949\n",
       "2888      HRV  2020-Q2 -14.491617\n",
       "2889      HRV  2020-Q3   5.488159\n",
       "2890      HRV  2020-Q4   8.207861\n",
       "\n",
       "[2891 rows x 3 columns]"
      ]
     },
     "execution_count": 301,
     "metadata": {},
     "output_type": "execute_result"
    }
   ],
   "source": [
    "#dropping columns unrequired for analysis\n",
    "\n",
    "df_OECD = df_OECD.drop(columns = ['INDICATOR', 'SUBJECT', 'MEASURE', 'FREQUENCY', 'Flag Codes'])\n",
    "\n",
    "df_OECD"
   ]
  },
  {
   "cell_type": "code",
   "execution_count": 302,
   "id": "06c9dd6e-a49d-49ed-89c6-e749f30fded6",
   "metadata": {},
   "outputs": [
    {
     "data": {
      "text/html": [
       "<div>\n",
       "<style scoped>\n",
       "    .dataframe tbody tr th:only-of-type {\n",
       "        vertical-align: middle;\n",
       "    }\n",
       "\n",
       "    .dataframe tbody tr th {\n",
       "        vertical-align: top;\n",
       "    }\n",
       "\n",
       "    .dataframe thead th {\n",
       "        text-align: right;\n",
       "    }\n",
       "</style>\n",
       "<table border=\"1\" class=\"dataframe\">\n",
       "  <thead>\n",
       "    <tr style=\"text-align: right;\">\n",
       "      <th></th>\n",
       "      <th>country_code</th>\n",
       "      <th>year</th>\n",
       "      <th>GDP_per_capita</th>\n",
       "    </tr>\n",
       "  </thead>\n",
       "  <tbody>\n",
       "    <tr>\n",
       "      <th>0</th>\n",
       "      <td>KOR</td>\n",
       "      <td>2007-Q3</td>\n",
       "      <td>1.173831</td>\n",
       "    </tr>\n",
       "    <tr>\n",
       "      <th>1</th>\n",
       "      <td>KOR</td>\n",
       "      <td>2007-Q4</td>\n",
       "      <td>2.156949</td>\n",
       "    </tr>\n",
       "    <tr>\n",
       "      <th>2</th>\n",
       "      <td>KOR</td>\n",
       "      <td>2008-Q1</td>\n",
       "      <td>0.402395</td>\n",
       "    </tr>\n",
       "    <tr>\n",
       "      <th>3</th>\n",
       "      <td>KOR</td>\n",
       "      <td>2008-Q2</td>\n",
       "      <td>0.523473</td>\n",
       "    </tr>\n",
       "    <tr>\n",
       "      <th>4</th>\n",
       "      <td>KOR</td>\n",
       "      <td>2008-Q3</td>\n",
       "      <td>0.815881</td>\n",
       "    </tr>\n",
       "    <tr>\n",
       "      <th>...</th>\n",
       "      <td>...</td>\n",
       "      <td>...</td>\n",
       "      <td>...</td>\n",
       "    </tr>\n",
       "    <tr>\n",
       "      <th>2886</th>\n",
       "      <td>HRV</td>\n",
       "      <td>2019-Q4</td>\n",
       "      <td>-0.564373</td>\n",
       "    </tr>\n",
       "    <tr>\n",
       "      <th>2887</th>\n",
       "      <td>HRV</td>\n",
       "      <td>2020-Q1</td>\n",
       "      <td>-1.344949</td>\n",
       "    </tr>\n",
       "    <tr>\n",
       "      <th>2888</th>\n",
       "      <td>HRV</td>\n",
       "      <td>2020-Q2</td>\n",
       "      <td>-14.491617</td>\n",
       "    </tr>\n",
       "    <tr>\n",
       "      <th>2889</th>\n",
       "      <td>HRV</td>\n",
       "      <td>2020-Q3</td>\n",
       "      <td>5.488159</td>\n",
       "    </tr>\n",
       "    <tr>\n",
       "      <th>2890</th>\n",
       "      <td>HRV</td>\n",
       "      <td>2020-Q4</td>\n",
       "      <td>8.207861</td>\n",
       "    </tr>\n",
       "  </tbody>\n",
       "</table>\n",
       "<p>2891 rows × 3 columns</p>\n",
       "</div>"
      ],
      "text/plain": [
       "     country_code     year  GDP_per_capita\n",
       "0             KOR  2007-Q3        1.173831\n",
       "1             KOR  2007-Q4        2.156949\n",
       "2             KOR  2008-Q1        0.402395\n",
       "3             KOR  2008-Q2        0.523473\n",
       "4             KOR  2008-Q3        0.815881\n",
       "...           ...      ...             ...\n",
       "2886          HRV  2019-Q4       -0.564373\n",
       "2887          HRV  2020-Q1       -1.344949\n",
       "2888          HRV  2020-Q2      -14.491617\n",
       "2889          HRV  2020-Q3        5.488159\n",
       "2890          HRV  2020-Q4        8.207861\n",
       "\n",
       "[2891 rows x 3 columns]"
      ]
     },
     "execution_count": 302,
     "metadata": {},
     "output_type": "execute_result"
    }
   ],
   "source": [
    "#renaming columns for clarity\n",
    "\n",
    "df_OECD.rename(columns={'LOCATION':'country_code', 'TIME':'year', 'Value':'GDP_per_capita'}, inplace=True)\n",
    "\n",
    "df_OECD"
   ]
  },
  {
   "cell_type": "code",
   "execution_count": 303,
   "id": "e6f2f27f-03d9-4f02-952e-ed48a8fcbbe8",
   "metadata": {
    "scrolled": true
   },
   "outputs": [
    {
     "data": {
      "text/plain": [
       "country_code\n",
       "KOR          54\n",
       "POL          54\n",
       "IDN          54\n",
       "LUX          54\n",
       "ZAF          54\n",
       "RUS          54\n",
       "PRT          54\n",
       "ITA          54\n",
       "AUT          54\n",
       "IRL          54\n",
       "CHE          54\n",
       "NZL          54\n",
       "CHL          54\n",
       "SWE          54\n",
       "FRA          54\n",
       "GRC          54\n",
       "OECDE        54\n",
       "G-7          54\n",
       "G-20         54\n",
       "COL          54\n",
       "LTU          54\n",
       "BGR          54\n",
       "ROU          54\n",
       "EU27_2020    54\n",
       "CRI          54\n",
       "AUS          54\n",
       "DEU          54\n",
       "CZE          54\n",
       "LVA          54\n",
       "ISL          54\n",
       "GBR          54\n",
       "EST          54\n",
       "DNK          54\n",
       "ESP          54\n",
       "JPN          54\n",
       "OECD         54\n",
       "NOR          54\n",
       "HUN          54\n",
       "CAN          54\n",
       "ARG          54\n",
       "SVN          54\n",
       "FIN          54\n",
       "BRA          54\n",
       "NLD          54\n",
       "USA          54\n",
       "SVK          54\n",
       "MEX          54\n",
       "BEL          54\n",
       "ISR          54\n",
       "TUR          54\n",
       "IND          54\n",
       "HRV          54\n",
       "SAU          43\n",
       "CHN          40\n",
       "Name: count, dtype: int64"
      ]
     },
     "execution_count": 303,
     "metadata": {},
     "output_type": "execute_result"
    }
   ],
   "source": [
    "#checking countries \n",
    "df_OECD['country_code'].value_counts() "
   ]
  },
  {
   "cell_type": "markdown",
   "id": "362c1203-dfd6-4b4c-93d1-00584254690d",
   "metadata": {},
   "source": [
    "GDP_per_capita was chosen for the focus of thislinear regression as it was found to have a moderate correlation to happiness_scores in the previous hypothesis testing. Data was pulled for the OECD data bank due to teh Nasdaq website link currently being down for pulling.\n",
    "\n",
    "Due to this data originating from a different source than the World Bank, it encompasses a more restricted set of countries—approximately half compared to the primary dataset. However, this dataset serves a unique purpose in ongoing linear regression techniques in its quarterly breakdown of GDP_per_capita, offering a wealth of data points for analyses. Notably. I have confined the data to the past 15 years, extending one year beyond 2019, the last year of the analyzed World Happiness Reports and gone back to 2007,approximatly 15 years into the past of the available financial content on the OECD website."
   ]
  },
  {
   "cell_type": "markdown",
   "id": "fff35734-e859-4fbc-8156-caa406da2c19",
   "metadata": {},
   "source": [
    "### Seperating 'year' and 'Q' into a numeric date and dropping previous columns"
   ]
  },
  {
   "cell_type": "code",
   "execution_count": 304,
   "id": "db57c41d-a62f-4321-a1ee-9e3783e75ac9",
   "metadata": {},
   "outputs": [],
   "source": [
    "# Converting year to string for concatenation\n",
    "df_OECD[['year', 'quarter']] = df_OECD['year'].str.split('-', expand=True)"
   ]
  },
  {
   "cell_type": "code",
   "execution_count": 305,
   "id": "dbde98fa-84d3-4c5a-ad15-09633d49b23f",
   "metadata": {},
   "outputs": [
    {
     "name": "stdout",
     "output_type": "stream",
     "text": [
      "     country_code  year  GDP_per_capita quarter       date\n",
      "0             KOR  2007        1.173831      Q3 2007-03-01\n",
      "1             KOR  2007        2.156949      Q4 2007-04-01\n",
      "2             KOR  2008        0.402395      Q1 2008-01-01\n",
      "3             KOR  2008        0.523473      Q2 2008-02-01\n",
      "4             KOR  2008        0.815881      Q3 2008-03-01\n",
      "...           ...   ...             ...     ...        ...\n",
      "2886          HRV  2019       -0.564373      Q4 2019-04-01\n",
      "2887          HRV  2020       -1.344949      Q1 2020-01-01\n",
      "2888          HRV  2020      -14.491617      Q2 2020-02-01\n",
      "2889          HRV  2020        5.488159      Q3 2020-03-01\n",
      "2890          HRV  2020        8.207861      Q4 2020-04-01\n",
      "\n",
      "[2891 rows x 5 columns]\n"
     ]
    }
   ],
   "source": [
    "# Create 'date' column using .loc\n",
    "df_OECD.loc[:, 'date'] = pd.to_datetime(df_OECD['year'] + '-' + df_OECD['quarter'].str[1:] + '-01')\n",
    "print(df_OECD)"
   ]
  },
  {
   "cell_type": "code",
   "execution_count": 306,
   "id": "7b2f1de9-0467-44b2-9096-c763afbc229f",
   "metadata": {},
   "outputs": [
    {
     "name": "stdout",
     "output_type": "stream",
     "text": [
      "<class 'pandas.core.frame.DataFrame'>\n",
      "RangeIndex: 2891 entries, 0 to 2890\n",
      "Data columns (total 5 columns):\n",
      " #   Column          Non-Null Count  Dtype         \n",
      "---  ------          --------------  -----         \n",
      " 0   country_code    2891 non-null   object        \n",
      " 1   year            2891 non-null   object        \n",
      " 2   GDP_per_capita  2891 non-null   float64       \n",
      " 3   quarter         2891 non-null   object        \n",
      " 4   date            2891 non-null   datetime64[ns]\n",
      "dtypes: datetime64[ns](1), float64(1), object(3)\n",
      "memory usage: 113.1+ KB\n"
     ]
    }
   ],
   "source": [
    "#Checking Data types\n",
    "df_OECD.info()"
   ]
  },
  {
   "cell_type": "code",
   "execution_count": 307,
   "id": "d26ab6fc-b3fc-4120-8b71-7aa5a88713b6",
   "metadata": {},
   "outputs": [
    {
     "data": {
      "text/plain": [
       "Text(0.5, 1.0, 'GDP per Capita Quartly Percentange Changes')"
      ]
     },
     "execution_count": 307,
     "metadata": {},
     "output_type": "execute_result"
    },
    {
     "data": {
      "image/png": "[encoded data removed]",
      "text/plain": [
       "<Figure size 1500x500 with 1 Axes>"
      ]
     },
     "metadata": {},
     "output_type": "display_data"
    }
   ],
   "source": [
    "#aggregating GDP_per_capita data for time series analysis\n",
    "\n",
    "df_GDP_capita = df_OECD.groupby(df_OECD['date'])['GDP_per_capita'].mean()\n",
    "\n",
    "# Initial plot using matplotlib.\n",
    "\n",
    "plt.figure(figsize=(15,5), dpi=100)\n",
    "\n",
    "plt.plot(df_GDP_capita)\n",
    "plt.title('GDP per Capita Quartly Percentange Changes')"
   ]
  },
  {
   "cell_type": "markdown",
   "id": "2df17e81-540e-45da-b3d5-43334fa0c746",
   "metadata": {},
   "source": [
    "# 3. Time-series analysis: decomposition"
   ]
  },
  {
   "cell_type": "code",
   "execution_count": 308,
   "id": "c9c34b1c-3bdd-46a7-a15c-65b4bbed5f9e",
   "metadata": {},
   "outputs": [
    {
     "ename": "ValueError",
     "evalue": "You must specify a period or x must be a pandas object with a PeriodIndex or a DatetimeIndex with a freq not set to None",
     "output_type": "error",
     "traceback": [
      "\u001b[1;31m---------------------------------------------------------------------------\u001b[0m",
      "\u001b[1;31mValueError\u001b[0m                                Traceback (most recent call last)",
      "Cell \u001b[1;32mIn[308], line 3\u001b[0m\n\u001b[0;32m      1\u001b[0m \u001b[38;5;66;03m# Decomposing the time series using an additive model\u001b[39;00m\n\u001b[1;32m----> 3\u001b[0m decomposition \u001b[38;5;241m=\u001b[39m sm\u001b[38;5;241m.\u001b[39mtsa\u001b[38;5;241m.\u001b[39mseasonal_decompose(df_GDP_capita, model\u001b[38;5;241m=\u001b[39m\u001b[38;5;124m'\u001b[39m\u001b[38;5;124madditive\u001b[39m\u001b[38;5;124m'\u001b[39m)\n",
      "File \u001b[1;32m~\\anaconda3\\Lib\\site-packages\\statsmodels\\tsa\\seasonal.py:166\u001b[0m, in \u001b[0;36mseasonal_decompose\u001b[1;34m(x, model, filt, period, two_sided, extrapolate_trend)\u001b[0m\n\u001b[0;32m    164\u001b[0m         period \u001b[38;5;241m=\u001b[39m pfreq\n\u001b[0;32m    165\u001b[0m     \u001b[38;5;28;01melse\u001b[39;00m:\n\u001b[1;32m--> 166\u001b[0m         \u001b[38;5;28;01mraise\u001b[39;00m \u001b[38;5;167;01mValueError\u001b[39;00m(\n\u001b[0;32m    167\u001b[0m             \u001b[38;5;124m\"\u001b[39m\u001b[38;5;124mYou must specify a period or x must be a pandas object with \u001b[39m\u001b[38;5;124m\"\u001b[39m\n\u001b[0;32m    168\u001b[0m             \u001b[38;5;124m\"\u001b[39m\u001b[38;5;124ma PeriodIndex or a DatetimeIndex with a freq not set to None\u001b[39m\u001b[38;5;124m\"\u001b[39m\n\u001b[0;32m    169\u001b[0m         )\n\u001b[0;32m    170\u001b[0m \u001b[38;5;28;01mif\u001b[39;00m x\u001b[38;5;241m.\u001b[39mshape[\u001b[38;5;241m0\u001b[39m] \u001b[38;5;241m<\u001b[39m \u001b[38;5;241m2\u001b[39m \u001b[38;5;241m*\u001b[39m pfreq:\n\u001b[0;32m    171\u001b[0m     \u001b[38;5;28;01mraise\u001b[39;00m \u001b[38;5;167;01mValueError\u001b[39;00m(\n\u001b[0;32m    172\u001b[0m         \u001b[38;5;124mf\u001b[39m\u001b[38;5;124m\"\u001b[39m\u001b[38;5;124mx must have 2 complete cycles requires \u001b[39m\u001b[38;5;132;01m{\u001b[39;00m\u001b[38;5;241m2\u001b[39m\u001b[38;5;250m \u001b[39m\u001b[38;5;241m*\u001b[39m\u001b[38;5;250m \u001b[39mpfreq\u001b[38;5;132;01m}\u001b[39;00m\u001b[38;5;124m \u001b[39m\u001b[38;5;124m\"\u001b[39m\n\u001b[0;32m    173\u001b[0m         \u001b[38;5;124mf\u001b[39m\u001b[38;5;124m\"\u001b[39m\u001b[38;5;124mobservations. x only has \u001b[39m\u001b[38;5;132;01m{\u001b[39;00mx\u001b[38;5;241m.\u001b[39mshape[\u001b[38;5;241m0\u001b[39m]\u001b[38;5;132;01m}\u001b[39;00m\u001b[38;5;124m observation(s)\u001b[39m\u001b[38;5;124m\"\u001b[39m\n\u001b[0;32m    174\u001b[0m     )\n",
      "\u001b[1;31mValueError\u001b[0m: You must specify a period or x must be a pandas object with a PeriodIndex or a DatetimeIndex with a freq not set to None"
     ]
    }
   ],
   "source": [
    "# Decomposing the time series using an additive model\n",
    "\n",
    "decomposition = sm.tsa.seasonal_decompose(df_GDP_capita, model='additive')"
   ]
  },
  {
   "cell_type": "code",
   "execution_count": 261,
   "id": "a671a84d-04b1-4d53-a9f1-62d28cc0b265",
   "metadata": {},
   "outputs": [],
   "source": [
    "# Defining a fixed size for all special charts\n",
    "from pylab import rcParams \n",
    "\n",
    "rcParams['figure.figsize'] = 18, 7"
   ]
  },
  {
   "cell_type": "code",
   "execution_count": 262,
   "id": "64562c44-d561-431a-87fa-05d73d05dd3c",
   "metadata": {},
   "outputs": [
    {
     "ename": "NameError",
     "evalue": "name 'decomposition' is not defined",
     "output_type": "error",
     "traceback": [
      "\u001b[1;31m---------------------------------------------------------------------------\u001b[0m",
      "\u001b[1;31mNameError\u001b[0m                                 Traceback (most recent call last)",
      "Cell \u001b[1;32mIn[262], line 3\u001b[0m\n\u001b[0;32m      1\u001b[0m \u001b[38;5;66;03m# Plot the separate components\u001b[39;00m\n\u001b[1;32m----> 3\u001b[0m decomposition\u001b[38;5;241m.\u001b[39mplot()\n\u001b[0;32m      4\u001b[0m plt\u001b[38;5;241m.\u001b[39mshow()\n",
      "\u001b[1;31mNameError\u001b[0m: name 'decomposition' is not defined"
     ]
    }
   ],
   "source": [
    "# Plot the separate components\n",
    "\n",
    "decomposition.plot()\n",
    "plt.show()"
   ]
  },
  {
   "cell_type": "markdown",
   "id": "55405ed3-82ef-4f67-acf8-6943b261c48d",
   "metadata": {},
   "source": [
    "### GDP per capita"
   ]
  },
  {
   "cell_type": "code",
   "execution_count": 201,
   "id": "4f7e76af-17cd-4818-be1d-f382007caa65",
   "metadata": {},
   "outputs": [],
   "source": [
    "# Decomposing the time series using an additive model\n",
    "\n",
    "decomposition2 = sm.tsa.seasonal_decompose(df_GDP_capita, model='additive')"
   ]
  },
  {
   "cell_type": "code",
   "execution_count": 202,
   "id": "70e0fb1b-e1eb-4b04-ba86-3e4d3593df9b",
   "metadata": {},
   "outputs": [
    {
     "data": {
      "image/png": "[encoded data removed]",
      "text/plain": [
       "<Figure size 1800x700 with 4 Axes>"
      ]
     },
     "metadata": {},
     "output_type": "display_data"
    }
   ],
   "source": [
    "# Plot the separate components\n",
    "\n",
    "decomposition2.plot()\n",
    "plt.show()"
   ]
  },
  {
   "cell_type": "code",
   "execution_count": null,
   "id": "0c85e4db-6e30-466d-b200-e538e0f38acd",
   "metadata": {},
   "outputs": [],
   "source": []
  }
 ],
 "metadata": {
  "kernelspec": {
   "display_name": "Python 3 (ipykernel)",
   "language": "python",
   "name": "python3"
  },
  "language_info": {
   "codemirror_mode": {
    "name": "ipython",
    "version": 3
   },
   "file_extension": ".py",
   "mimetype": "text/x-python",
   "name": "python",
   "nbconvert_exporter": "python",
   "pygments_lexer": "ipython3",
   "version": "3.11.5"
  }
 },
 "nbformat": 4,
 "nbformat_minor": 5
}
